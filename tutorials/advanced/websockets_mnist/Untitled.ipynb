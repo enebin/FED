{
 "cells": [
  {
   "cell_type": "code",
   "execution_count": 2,
   "metadata": {},
   "outputs": [],
   "source": [
    "! python start_websocket_servers.py"
   ]
  },
  {
   "cell_type": "code",
   "execution_count": 3,
   "metadata": {},
   "outputs": [
    {
     "name": "stderr",
     "output_type": "stream",
     "text": [
      "Traceback (most recent call last):\n",
      "  File \"C:/Users/Lee/Documents/GitHub/PySyft/run_websocket_server.py\", line 5, in <module>\n",
      "    import syft as sy\n",
      "  File \"C:\\Users\\Lee\\Documents\\GitHub\\PySyft\\syft\\__init__.py\", line 14, in <module>\n",
      "    import syft.frameworks.torch.hook.hook_args\n",
      "  File \"C:\\Users\\Lee\\Documents\\GitHub\\PySyft\\syft\\frameworks\\torch\\hook\\hook_args.py\", line 1, in <module>\n",
      "    import torch\n",
      "  File \"C:\\Users\\Lee\\anaconda3\\envs\\websockets_mnist\\lib\\site-packages\\torch\\__init__.py\", line 81, in <module>\n",
      "    from torch._C import *\n",
      "ImportError: DLL load failed: 이 작업을 완료하기 위한 페이징 파일이 너무 작습니다.\n",
      "Traceback (most recent call last):\n",
      "  File \"C:/Users/Lee/Documents/GitHub/PySyft/run_websocket_server.py\", line 5, in <module>\n",
      "    import syft as sy\n",
      "  File \"C:\\Users\\Lee\\Documents\\GitHub\\PySyft\\syft\\__init__.py\", line 14, in <module>\n",
      "    import syft.frameworks.torch.hook.hook_args\n",
      "  File \"C:\\Users\\Lee\\Documents\\GitHub\\PySyft\\syft\\frameworks\\torch\\hook\\hook_args.py\", line 1, in <module>\n",
      "    import torch\n",
      "  File \"C:\\Users\\Lee\\anaconda3\\envs\\websockets_mnist\\lib\\site-packages\\torch\\__init__.py\", line 81, in <module>\n",
      "    from torch._C import *\n",
      "ImportError: DLL load failed: 이 작업을 완료하기 위한 페이징 파일이 너무 작습니다.\n",
      "Traceback (most recent call last):\n",
      "  File \"C:/Users/Lee/Documents/GitHub/PySyft/run_websocket_server.py\", line 5, in <module>\n",
      "    import syft as sy\n",
      "  File \"C:\\Users\\Lee\\Documents\\GitHub\\PySyft\\syft\\__init__.py\", line 14, in <module>\n",
      "    import syft.frameworks.torch.hook.hook_args\n",
      "  File \"C:\\Users\\Lee\\Documents\\GitHub\\PySyft\\syft\\frameworks\\torch\\hook\\hook_args.py\", line 1, in <module>\n",
      "    import torch\n",
      "  File \"C:\\Users\\Lee\\anaconda3\\envs\\websockets_mnist\\lib\\site-packages\\torch\\__init__.py\", line 81, in <module>\n",
      "    from torch._C import *\n",
      "ImportError: DLL load failed: 이 작업을 완료하기 위한 페이징 파일이 너무 작습니다.\n"
     ]
    },
    {
     "name": "stdout",
     "output_type": "stream",
     "text": [
      "Starting server for Alice\n",
      "Starting server for Bob\n",
      "Starting server for Charlie\n",
      "Starting server for Alice\n",
      "Starting server for Bob\n",
      "Starting server for Charlie\n"
     ]
    },
    {
     "name": "stderr",
     "output_type": "stream",
     "text": [
      "Traceback (most recent call last):\n",
      "  File \"C:/Users/Lee/Documents/GitHub/PySyft/run_websocket_server.py\", line 198, in <module>\n",
      "    server.start()\n",
      "  File \"C:\\Users\\Lee\\Documents\\GitHub\\PySyft\\syft\\workers\\websocket_server.py\", line 171, in start\n",
      "    asyncio.get_event_loop().run_until_complete(start_server)\n",
      "  File \"C:\\Users\\Lee\\anaconda3\\envs\\websockets_mnist\\lib\\asyncio\\base_events.py\", line 587, in run_until_complete\n",
      "    return future.result()\n",
      "  File \"C:\\Users\\Lee\\anaconda3\\envs\\websockets_mnist\\lib\\asyncio\\tasks.py\", line 630, in _wrap_awaitable\n",
      "    return (yield from awaitable.__await__())\n",
      "  File \"C:\\Users\\Lee\\anaconda3\\envs\\websockets_mnist\\lib\\site-packages\\websockets\\server.py\", line 965, in __await_impl__\n",
      "    server = await self._create_server()\n",
      "  File \"C:\\Users\\Lee\\anaconda3\\envs\\websockets_mnist\\lib\\asyncio\\base_events.py\", line 1389, in create_server\n",
      "    % (sa, err.strerror.lower())) from None\n",
      "OSError: [Errno 10048] error while attempting to bind on address ('::1', 8779, 0, 0): 각 소켓 주소(프로토콜/네트워크 주소/포트)는 하나만 사용할 수 있습니다\n",
      "Traceback (most recent call last):\n",
      "  File \"C:/Users/Lee/Documents/GitHub/PySyft/run_websocket_server.py\", line 198, in <module>\n",
      "    server.start()\n",
      "  File \"C:\\Users\\Lee\\Documents\\GitHub\\PySyft\\syft\\workers\\websocket_server.py\", line 171, in start\n",
      "    asyncio.get_event_loop().run_until_complete(start_server)\n",
      "  File \"C:\\Users\\Lee\\anaconda3\\envs\\websockets_mnist\\lib\\asyncio\\base_events.py\", line 587, in run_until_complete\n",
      "    return future.result()\n",
      "  File \"C:\\Users\\Lee\\anaconda3\\envs\\websockets_mnist\\lib\\asyncio\\tasks.py\", line 630, in _wrap_awaitable\n",
      "    return (yield from awaitable.__await__())\n",
      "  File \"C:\\Users\\Lee\\anaconda3\\envs\\websockets_mnist\\lib\\site-packages\\websockets\\server.py\", line 965, in __await_impl__\n",
      "    server = await self._create_server()\n",
      "  File \"C:\\Users\\Lee\\anaconda3\\envs\\websockets_mnist\\lib\\asyncio\\base_events.py\", line 1389, in create_server\n",
      "    % (sa, err.strerror.lower())) from None\n",
      "OSError: [Errno 10048] error while attempting to bind on address ('::1', 8777, 0, 0): 각 소켓 주소(프로토콜/네트워크 주소/포트)는 하나만 사용할 수 있습니다\n",
      "Traceback (most recent call last):\n",
      "  File \"C:/Users/Lee/Documents/GitHub/PySyft/run_websocket_server.py\", line 198, in <module>\n",
      "    server.start()\n",
      "  File \"C:\\Users\\Lee\\Documents\\GitHub\\PySyft\\syft\\workers\\websocket_server.py\", line 171, in start\n",
      "    asyncio.get_event_loop().run_until_complete(start_server)\n",
      "  File \"C:\\Users\\Lee\\anaconda3\\envs\\websockets_mnist\\lib\\asyncio\\base_events.py\", line 587, in run_until_complete\n",
      "    return future.result()\n",
      "  File \"C:\\Users\\Lee\\anaconda3\\envs\\websockets_mnist\\lib\\asyncio\\tasks.py\", line 630, in _wrap_awaitable\n",
      "    return (yield from awaitable.__await__())\n",
      "  File \"C:\\Users\\Lee\\anaconda3\\envs\\websockets_mnist\\lib\\site-packages\\websockets\\server.py\", line 965, in __await_impl__\n",
      "    server = await self._create_server()\n",
      "  File \"C:\\Users\\Lee\\anaconda3\\envs\\websockets_mnist\\lib\\asyncio\\base_events.py\", line 1389, in create_server\n",
      "    % (sa, err.strerror.lower())) from None\n",
      "OSError: [Errno 10048] error while attempting to bind on address ('127.0.0.1', 8778): 각 소켓 주소(프로토콜/네트워크 주소/포트)는 하나만 사용할 수 있습니다\n"
     ]
    },
    {
     "name": "stdout",
     "output_type": "stream",
     "text": [
      "^C\n"
     ]
    }
   ],
   "source": [
    "! python run_websocket_client.py"
   ]
  },
  {
   "cell_type": "code",
   "execution_count": null,
   "metadata": {},
   "outputs": [],
   "source": []
  }
 ],
 "metadata": {
  "kernelspec": {
   "display_name": "Python 3",
   "language": "python",
   "name": "python3"
  },
  "language_info": {
   "codemirror_mode": {
    "name": "ipython",
    "version": 3
   },
   "file_extension": ".py",
   "mimetype": "text/x-python",
   "name": "python",
   "nbconvert_exporter": "python",
   "pygments_lexer": "ipython3",
   "version": "3.7.9"
  }
 },
 "nbformat": 4,
 "nbformat_minor": 4
}
